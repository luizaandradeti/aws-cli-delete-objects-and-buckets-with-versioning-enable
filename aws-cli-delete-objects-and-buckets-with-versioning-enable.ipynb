{
 "cells": [
  {
   "cell_type": "code",
   "execution_count": null,
   "metadata": {},
   "outputs": [],
   "source": [
    "import boto3\n",
    "\n",
    "s3 = boto3.client('s3')\n",
    "session = boto3.Session() \n",
    "s3 = session.resource(service_name='s3') \n",
    "\n",
    "trn = \"list.txt\"\n",
    "\n",
    "with open(trn) as trn_list:\n",
    "    for line in trn_list:\n",
    "        bucket = s3.Bucket(line)\n",
    "        print(bucket)\n",
    "        input('digite algo para continuar')\n",
    "        bucket.object_versions.delete()\n",
    "        bucket.delete()\n"
   ]
  },
  {
   "cell_type": "code",
   "execution_count": null,
   "metadata": {},
   "outputs": [],
   "source": []
  }
 ],
 "metadata": {
  "instance_type": "ml.t3.medium",
  "kernelspec": {
   "display_name": "Python 3",
   "language": "python",
   "name": "python3"
  },
  "language_info": {
   "codemirror_mode": {
    "name": "ipython",
    "version": 3
   },
   "file_extension": ".py",
   "mimetype": "text/x-python",
   "name": "python",
   "nbconvert_exporter": "python",
   "pygments_lexer": "ipython3",
   "version": "3.13.2"
  }
 },
 "nbformat": 4,
 "nbformat_minor": 4
}
