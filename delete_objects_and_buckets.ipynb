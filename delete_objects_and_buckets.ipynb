{
 "cells": [
  {
   "cell_type": "code",
   "execution_count": null,
   "metadata": {},
   "outputs": [],
   "source": [
    "#install aws cli\n",
    "#configure aws cli with access credentials\n",
    "#run pip install boto3 in cmd\n",
    "#run the code below\n",
    "#replace the name of bucket\n",
    "import boto3\n",
    "try:\n",
    "    session = boto3.Session() \n",
    "    s3 = session.resource(service_name='s3') \n",
    "    #example: s3://bucket_old_data\n",
    "    bucket = s3.Bucket('bucket_old_data')  \n",
    "    bucket.object_versions.delete()\n",
    "    bucket.delete()\n",
    "except:\n",
    "    print(\"erro\")\n",
    "  \n",
    "#another example\n",
    "try:\n",
    "    session = boto3.Session() \n",
    "    s3 = session.resource(service_name='s3') \n",
    "    #example: s3://bucket_old_services\n",
    "    bucket = s3.Bucket('bucket_old_services')  \n",
    "    bucket.object_versions.delete()\n",
    "    bucket.delete()\n",
    "except Exception as e:\n",
    "    print e.message"
   ]
  }
 ],
 "metadata": {
  "instance_type": "ml.t3.medium",
  "kernelspec": {
   "display_name": "Python 3",
   "language": "python",
   "name": "python3"
  },
  "language_info": {
   "codemirror_mode": {
    "name": "ipython",
    "version": 3
   },
   "file_extension": ".py",
   "mimetype": "text/x-python",
   "name": "python",
   "nbconvert_exporter": "python",
   "pygments_lexer": "ipython3",
   "version": "3.13.2"
  }
 },
 "nbformat": 4,
 "nbformat_minor": 4
}
